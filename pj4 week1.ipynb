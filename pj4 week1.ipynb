{
 "cells": [
  {
   "cell_type": "markdown",
   "id": "1e8b16b8",
   "metadata": {},
   "source": [
    "Week 1 - I thought it would be interesting to get myself started by analyzing stocks and the weather in New York City.\n",
    "I downloaded historic data of diferent stocks from nasdaq and added the daily average weather in New York City Central Park Area to the csv file. The weather data was obtained from here: https://www.weather.gov/wrh/climate?wfo=okx"
   ]
  },
  {
   "cell_type": "code",
   "execution_count": 1,
   "id": "cdd202df",
   "metadata": {},
   "outputs": [
    {
     "data": {
      "text/html": [
       "<div>\n",
       "<style scoped>\n",
       "    .dataframe tbody tr th:only-of-type {\n",
       "        vertical-align: middle;\n",
       "    }\n",
       "\n",
       "    .dataframe tbody tr th {\n",
       "        vertical-align: top;\n",
       "    }\n",
       "\n",
       "    .dataframe thead th {\n",
       "        text-align: right;\n",
       "    }\n",
       "</style>\n",
       "<table border=\"1\" class=\"dataframe\">\n",
       "  <thead>\n",
       "    <tr style=\"text-align: right;\">\n",
       "      <th></th>\n",
       "      <th>Date</th>\n",
       "      <th>Close/Last</th>\n",
       "      <th>Volume</th>\n",
       "      <th>Open</th>\n",
       "      <th>High</th>\n",
       "      <th>Low</th>\n",
       "      <th>NY Temp</th>\n",
       "    </tr>\n",
       "  </thead>\n",
       "  <tbody>\n",
       "    <tr>\n",
       "      <th>0</th>\n",
       "      <td>11/15/2021</td>\n",
       "      <td>$2,969.04</td>\n",
       "      <td>1175352</td>\n",
       "      <td>$2,978.01</td>\n",
       "      <td>$2,990.99</td>\n",
       "      <td>$2,951.50</td>\n",
       "      <td>43.0</td>\n",
       "    </tr>\n",
       "    <tr>\n",
       "      <th>1</th>\n",
       "      <td>11/12/2021</td>\n",
       "      <td>$2,973.56</td>\n",
       "      <td>1118000</td>\n",
       "      <td>$2,932.31</td>\n",
       "      <td>$2,977</td>\n",
       "      <td>$2,908.22</td>\n",
       "      <td>58.0</td>\n",
       "    </tr>\n",
       "    <tr>\n",
       "      <th>2</th>\n",
       "      <td>11/11/2021</td>\n",
       "      <td>$2,915.33</td>\n",
       "      <td>825874</td>\n",
       "      <td>$2,929.79</td>\n",
       "      <td>$2,950.71</td>\n",
       "      <td>$2,912.01</td>\n",
       "      <td>53.0</td>\n",
       "    </tr>\n",
       "    <tr>\n",
       "      <th>3</th>\n",
       "      <td>11/10/2021</td>\n",
       "      <td>$2,917.87</td>\n",
       "      <td>1498490</td>\n",
       "      <td>$2,950</td>\n",
       "      <td>$2,961.40</td>\n",
       "      <td>$2,890.75</td>\n",
       "      <td>56.5</td>\n",
       "    </tr>\n",
       "    <tr>\n",
       "      <th>4</th>\n",
       "      <td>11/9/2021</td>\n",
       "      <td>$2,978.37</td>\n",
       "      <td>976487</td>\n",
       "      <td>$2,984.66</td>\n",
       "      <td>$2,996.69</td>\n",
       "      <td>$2,944.90</td>\n",
       "      <td>59.0</td>\n",
       "    </tr>\n",
       "  </tbody>\n",
       "</table>\n",
       "</div>"
      ],
      "text/plain": [
       "         Date  Close/Last   Volume        Open        High         Low  \\\n",
       "0  11/15/2021  $2,969.04   1175352  $2,978.01   $2,990.99   $2,951.50    \n",
       "1  11/12/2021  $2,973.56   1118000  $2,932.31      $2,977   $2,908.22    \n",
       "2  11/11/2021  $2,915.33    825874  $2,929.79   $2,950.71   $2,912.01    \n",
       "3  11/10/2021  $2,917.87   1498490     $2,950   $2,961.40   $2,890.75    \n",
       "4   11/9/2021  $2,978.37    976487  $2,984.66   $2,996.69   $2,944.90    \n",
       "\n",
       "   NY Temp  \n",
       "0     43.0  \n",
       "1     58.0  \n",
       "2     53.0  \n",
       "3     56.5  \n",
       "4     59.0  "
      ]
     },
     "execution_count": 1,
     "metadata": {},
     "output_type": "execute_result"
    }
   ],
   "source": [
    "import pandas as pd\n",
    "import matplotlib.pyplot as plt\n",
    "data = pd.read_csv('GOOGL-11-15-1m.csv')\n",
    "data.head()"
   ]
  },
  {
   "cell_type": "markdown",
   "id": "dafa9bce",
   "metadata": {},
   "source": [
    "I'm only going to look at Closing/Last and NY Temp so I dropped the other columns. Cleaned the data by changing the dates to datetime and the prices into float."
   ]
  },
  {
   "cell_type": "code",
   "execution_count": 2,
   "id": "ad765ea7",
   "metadata": {},
   "outputs": [
    {
     "name": "stderr",
     "output_type": "stream",
     "text": [
      "<ipython-input-2-a4f7fbad9d4c>:3: FutureWarning: The default value of regex will change from True to False in a future version. In addition, single character regular expressions will*not* be treated as literal strings when regex=True.\n",
      "  data['Close/Last'] = data['Close/Last'].str.replace(',', '').str.replace('$', '').astype(float)\n"
     ]
    },
    {
     "data": {
      "text/html": [
       "<div>\n",
       "<style scoped>\n",
       "    .dataframe tbody tr th:only-of-type {\n",
       "        vertical-align: middle;\n",
       "    }\n",
       "\n",
       "    .dataframe tbody tr th {\n",
       "        vertical-align: top;\n",
       "    }\n",
       "\n",
       "    .dataframe thead th {\n",
       "        text-align: right;\n",
       "    }\n",
       "</style>\n",
       "<table border=\"1\" class=\"dataframe\">\n",
       "  <thead>\n",
       "    <tr style=\"text-align: right;\">\n",
       "      <th></th>\n",
       "      <th>Date</th>\n",
       "      <th>Close/Last</th>\n",
       "      <th>NY Temp</th>\n",
       "    </tr>\n",
       "  </thead>\n",
       "  <tbody>\n",
       "    <tr>\n",
       "      <th>0</th>\n",
       "      <td>2021-11-15</td>\n",
       "      <td>2969.04</td>\n",
       "      <td>43.0</td>\n",
       "    </tr>\n",
       "    <tr>\n",
       "      <th>1</th>\n",
       "      <td>2021-11-12</td>\n",
       "      <td>2973.56</td>\n",
       "      <td>58.0</td>\n",
       "    </tr>\n",
       "    <tr>\n",
       "      <th>2</th>\n",
       "      <td>2021-11-11</td>\n",
       "      <td>2915.33</td>\n",
       "      <td>53.0</td>\n",
       "    </tr>\n",
       "    <tr>\n",
       "      <th>3</th>\n",
       "      <td>2021-11-10</td>\n",
       "      <td>2917.87</td>\n",
       "      <td>56.5</td>\n",
       "    </tr>\n",
       "    <tr>\n",
       "      <th>4</th>\n",
       "      <td>2021-11-09</td>\n",
       "      <td>2978.37</td>\n",
       "      <td>59.0</td>\n",
       "    </tr>\n",
       "  </tbody>\n",
       "</table>\n",
       "</div>"
      ],
      "text/plain": [
       "        Date  Close/Last  NY Temp\n",
       "0 2021-11-15     2969.04     43.0\n",
       "1 2021-11-12     2973.56     58.0\n",
       "2 2021-11-11     2915.33     53.0\n",
       "3 2021-11-10     2917.87     56.5\n",
       "4 2021-11-09     2978.37     59.0"
      ]
     },
     "execution_count": 2,
     "metadata": {},
     "output_type": "execute_result"
    }
   ],
   "source": [
    "data.drop(columns=['Volume', 'Open', 'High', 'Low'], inplace=True)\n",
    "data['Date'] = pd.to_datetime(data['Date'])\n",
    "data['Close/Last'] = data['Close/Last'].str.replace(',', '').str.replace('$', '').astype(float)\n",
    "data.head()"
   ]
  },
  {
   "cell_type": "code",
   "execution_count": 3,
   "id": "4d625b24",
   "metadata": {},
   "outputs": [
    {
     "name": "stdout",
     "output_type": "stream",
     "text": [
      "<class 'pandas.core.frame.DataFrame'>\n",
      "RangeIndex: 22 entries, 0 to 21\n",
      "Data columns (total 3 columns):\n",
      " #   Column      Non-Null Count  Dtype         \n",
      "---  ------      --------------  -----         \n",
      " 0   Date        22 non-null     datetime64[ns]\n",
      " 1   Close/Last  22 non-null     float64       \n",
      " 2   NY Temp     22 non-null     float64       \n",
      "dtypes: datetime64[ns](1), float64(2)\n",
      "memory usage: 656.0 bytes\n"
     ]
    }
   ],
   "source": [
    "data.info()"
   ]
  },
  {
   "cell_type": "markdown",
   "id": "6becc7ed",
   "metadata": {},
   "source": [
    "Looked for the correlation between weather and the closing price of the stock. Since the correlation is negative, I assume that when it's colder in New York City the closing price will be higher."
   ]
  },
  {
   "cell_type": "code",
   "execution_count": 4,
   "id": "77b90fce",
   "metadata": {},
   "outputs": [
    {
     "data": {
      "text/html": [
       "<div>\n",
       "<style scoped>\n",
       "    .dataframe tbody tr th:only-of-type {\n",
       "        vertical-align: middle;\n",
       "    }\n",
       "\n",
       "    .dataframe tbody tr th {\n",
       "        vertical-align: top;\n",
       "    }\n",
       "\n",
       "    .dataframe thead th {\n",
       "        text-align: right;\n",
       "    }\n",
       "</style>\n",
       "<table border=\"1\" class=\"dataframe\">\n",
       "  <thead>\n",
       "    <tr style=\"text-align: right;\">\n",
       "      <th></th>\n",
       "      <th>Close/Last</th>\n",
       "      <th>NY Temp</th>\n",
       "    </tr>\n",
       "  </thead>\n",
       "  <tbody>\n",
       "    <tr>\n",
       "      <th>Close/Last</th>\n",
       "      <td>1.000000</td>\n",
       "      <td>-0.673085</td>\n",
       "    </tr>\n",
       "    <tr>\n",
       "      <th>NY Temp</th>\n",
       "      <td>-0.673085</td>\n",
       "      <td>1.000000</td>\n",
       "    </tr>\n",
       "  </tbody>\n",
       "</table>\n",
       "</div>"
      ],
      "text/plain": [
       "            Close/Last   NY Temp\n",
       "Close/Last    1.000000 -0.673085\n",
       "NY Temp      -0.673085  1.000000"
      ]
     },
     "execution_count": 4,
     "metadata": {},
     "output_type": "execute_result"
    }
   ],
   "source": [
    "corr = data.corr()\n",
    "corr"
   ]
  },
  {
   "cell_type": "markdown",
   "id": "a1e20b21",
   "metadata": {},
   "source": [
    "Looked at a boxplot of the daily average temperature in New York to get a sense of what should be considered cold and hot"
   ]
  },
  {
   "cell_type": "code",
   "execution_count": 5,
   "id": "645d0df6",
   "metadata": {},
   "outputs": [
    {
     "data": {
      "text/plain": [
       "<AxesSubplot:ylabel='NY Temp'>"
      ]
     },
     "execution_count": 5,
     "metadata": {},
     "output_type": "execute_result"
    },
    {
     "data": {
      "image/png": "[encoded data removed]",
      "text/plain": [
       "<Figure size 432x288 with 1 Axes>"
      ]
     },
     "metadata": {
      "needs_background": "light"
     },
     "output_type": "display_data"
    }
   ],
   "source": [
    "import seaborn as sns\n",
    "sns.boxplot(y=\"NY Temp\", data=data)"
   ]
  },
  {
   "cell_type": "markdown",
   "id": "dd8abdd9",
   "metadata": {},
   "source": [
    "I repeated the same steps with other tech companies, and chose the 3 that had the strongest correlation to weather to invest in (GOOGl, MSFT, AAPL). This week I will buy the stock when the weather in New York City is above the median, and maybe sell when it is below the median."
   ]
  },
  {
   "cell_type": "code",
   "execution_count": 6,
   "id": "2d38dd08",
   "metadata": {},
   "outputs": [
    {
     "name": "stderr",
     "output_type": "stream",
     "text": [
      "<ipython-input-6-c6f4bee4ad4f>:4: FutureWarning: The default value of regex will change from True to False in a future version. In addition, single character regular expressions will*not* be treated as literal strings when regex=True.\n",
      "  data['Close/Last'] = data['Close/Last'].str.replace(',', '').str.replace('$', '').astype(float)\n"
     ]
    },
    {
     "data": {
      "text/html": [
       "<div>\n",
       "<style scoped>\n",
       "    .dataframe tbody tr th:only-of-type {\n",
       "        vertical-align: middle;\n",
       "    }\n",
       "\n",
       "    .dataframe tbody tr th {\n",
       "        vertical-align: top;\n",
       "    }\n",
       "\n",
       "    .dataframe thead th {\n",
       "        text-align: right;\n",
       "    }\n",
       "</style>\n",
       "<table border=\"1\" class=\"dataframe\">\n",
       "  <thead>\n",
       "    <tr style=\"text-align: right;\">\n",
       "      <th></th>\n",
       "      <th>Close/Last</th>\n",
       "      <th>NY Temp</th>\n",
       "    </tr>\n",
       "  </thead>\n",
       "  <tbody>\n",
       "    <tr>\n",
       "      <th>Close/Last</th>\n",
       "      <td>1.000000</td>\n",
       "      <td>-0.737745</td>\n",
       "    </tr>\n",
       "    <tr>\n",
       "      <th>NY Temp</th>\n",
       "      <td>-0.737745</td>\n",
       "      <td>1.000000</td>\n",
       "    </tr>\n",
       "  </tbody>\n",
       "</table>\n",
       "</div>"
      ],
      "text/plain": [
       "            Close/Last   NY Temp\n",
       "Close/Last    1.000000 -0.737745\n",
       "NY Temp      -0.737745  1.000000"
      ]
     },
     "execution_count": 6,
     "metadata": {},
     "output_type": "execute_result"
    }
   ],
   "source": [
    "data = pd.read_csv('MSFT-11-15-1m.csv')\n",
    "data.drop(columns=['Volume', 'Open', 'High', 'Low'], inplace=True)\n",
    "data['Date'] = pd.to_datetime(data['Date'])\n",
    "data['Close/Last'] = data['Close/Last'].str.replace(',', '').str.replace('$', '').astype(float)\n",
    "corr = data.corr()\n",
    "corr"
   ]
  },
  {
   "cell_type": "code",
   "execution_count": 7,
   "id": "1f0fce03",
   "metadata": {},
   "outputs": [
    {
     "name": "stderr",
     "output_type": "stream",
     "text": [
      "<ipython-input-7-4f61c69e4e1f>:4: FutureWarning: The default value of regex will change from True to False in a future version. In addition, single character regular expressions will*not* be treated as literal strings when regex=True.\n",
      "  data['Close/Last'] = data['Close/Last'].str.replace(',', '').str.replace('$', '').astype(float)\n"
     ]
    },
    {
     "data": {
      "text/html": [
       "<div>\n",
       "<style scoped>\n",
       "    .dataframe tbody tr th:only-of-type {\n",
       "        vertical-align: middle;\n",
       "    }\n",
       "\n",
       "    .dataframe tbody tr th {\n",
       "        vertical-align: top;\n",
       "    }\n",
       "\n",
       "    .dataframe thead th {\n",
       "        text-align: right;\n",
       "    }\n",
       "</style>\n",
       "<table border=\"1\" class=\"dataframe\">\n",
       "  <thead>\n",
       "    <tr style=\"text-align: right;\">\n",
       "      <th></th>\n",
       "      <th>Close/Last</th>\n",
       "      <th>NY Temp</th>\n",
       "    </tr>\n",
       "  </thead>\n",
       "  <tbody>\n",
       "    <tr>\n",
       "      <th>Close/Last</th>\n",
       "      <td>1.00000</td>\n",
       "      <td>-0.19142</td>\n",
       "    </tr>\n",
       "    <tr>\n",
       "      <th>NY Temp</th>\n",
       "      <td>-0.19142</td>\n",
       "      <td>1.00000</td>\n",
       "    </tr>\n",
       "  </tbody>\n",
       "</table>\n",
       "</div>"
      ],
      "text/plain": [
       "            Close/Last  NY Temp\n",
       "Close/Last     1.00000 -0.19142\n",
       "NY Temp       -0.19142  1.00000"
      ]
     },
     "execution_count": 7,
     "metadata": {},
     "output_type": "execute_result"
    }
   ],
   "source": [
    "data = pd.read_csv('FB-11-15-1m.csv')\n",
    "data.drop(columns=['Volume', 'Open', 'High', 'Low'], inplace=True)\n",
    "data['Date'] = pd.to_datetime(data['Date'])\n",
    "data['Close/Last'] = data['Close/Last'].str.replace(',', '').str.replace('$', '').astype(float)\n",
    "corr = data.corr()\n",
    "corr"
   ]
  },
  {
   "cell_type": "code",
   "execution_count": 8,
   "id": "95ff124c",
   "metadata": {},
   "outputs": [
    {
     "name": "stderr",
     "output_type": "stream",
     "text": [
      "<ipython-input-8-0e70b230f70c>:4: FutureWarning: The default value of regex will change from True to False in a future version. In addition, single character regular expressions will*not* be treated as literal strings when regex=True.\n",
      "  data['Close/Last'] = data['Close/Last'].str.replace(',', '').str.replace('$', '').astype(float)\n"
     ]
    },
    {
     "data": {
      "text/html": [
       "<div>\n",
       "<style scoped>\n",
       "    .dataframe tbody tr th:only-of-type {\n",
       "        vertical-align: middle;\n",
       "    }\n",
       "\n",
       "    .dataframe tbody tr th {\n",
       "        vertical-align: top;\n",
       "    }\n",
       "\n",
       "    .dataframe thead th {\n",
       "        text-align: right;\n",
       "    }\n",
       "</style>\n",
       "<table border=\"1\" class=\"dataframe\">\n",
       "  <thead>\n",
       "    <tr style=\"text-align: right;\">\n",
       "      <th></th>\n",
       "      <th>Close/Last</th>\n",
       "      <th>NY Temp</th>\n",
       "    </tr>\n",
       "  </thead>\n",
       "  <tbody>\n",
       "    <tr>\n",
       "      <th>Close/Last</th>\n",
       "      <td>1.000000</td>\n",
       "      <td>-0.252574</td>\n",
       "    </tr>\n",
       "    <tr>\n",
       "      <th>NY Temp</th>\n",
       "      <td>-0.252574</td>\n",
       "      <td>1.000000</td>\n",
       "    </tr>\n",
       "  </tbody>\n",
       "</table>\n",
       "</div>"
      ],
      "text/plain": [
       "            Close/Last   NY Temp\n",
       "Close/Last    1.000000 -0.252574\n",
       "NY Temp      -0.252574  1.000000"
      ]
     },
     "execution_count": 8,
     "metadata": {},
     "output_type": "execute_result"
    }
   ],
   "source": [
    "data = pd.read_csv('AMZN-11-15-1m.csv')\n",
    "data.drop(columns=['Volume', 'Open', 'High', 'Low'], inplace=True)\n",
    "data['Date'] = pd.to_datetime(data['Date'])\n",
    "data['Close/Last'] = data['Close/Last'].str.replace(',', '').str.replace('$', '').astype(float)\n",
    "corr = data.corr()\n",
    "corr"
   ]
  },
  {
   "cell_type": "code",
   "execution_count": 9,
   "id": "7643c3e0",
   "metadata": {},
   "outputs": [
    {
     "name": "stderr",
     "output_type": "stream",
     "text": [
      "<ipython-input-9-62444ce90a8c>:4: FutureWarning: The default value of regex will change from True to False in a future version. In addition, single character regular expressions will*not* be treated as literal strings when regex=True.\n",
      "  data['Close/Last'] = data['Close/Last'].str.replace(',', '').str.replace('$', '').astype(float)\n"
     ]
    },
    {
     "data": {
      "text/html": [
       "<div>\n",
       "<style scoped>\n",
       "    .dataframe tbody tr th:only-of-type {\n",
       "        vertical-align: middle;\n",
       "    }\n",
       "\n",
       "    .dataframe tbody tr th {\n",
       "        vertical-align: top;\n",
       "    }\n",
       "\n",
       "    .dataframe thead th {\n",
       "        text-align: right;\n",
       "    }\n",
       "</style>\n",
       "<table border=\"1\" class=\"dataframe\">\n",
       "  <thead>\n",
       "    <tr style=\"text-align: right;\">\n",
       "      <th></th>\n",
       "      <th>Close/Last</th>\n",
       "      <th>NY Temp</th>\n",
       "    </tr>\n",
       "  </thead>\n",
       "  <tbody>\n",
       "    <tr>\n",
       "      <th>Close/Last</th>\n",
       "      <td>1.000000</td>\n",
       "      <td>-0.563166</td>\n",
       "    </tr>\n",
       "    <tr>\n",
       "      <th>NY Temp</th>\n",
       "      <td>-0.563166</td>\n",
       "      <td>1.000000</td>\n",
       "    </tr>\n",
       "  </tbody>\n",
       "</table>\n",
       "</div>"
      ],
      "text/plain": [
       "            Close/Last   NY Temp\n",
       "Close/Last    1.000000 -0.563166\n",
       "NY Temp      -0.563166  1.000000"
      ]
     },
     "execution_count": 9,
     "metadata": {},
     "output_type": "execute_result"
    }
   ],
   "source": [
    "data = pd.read_csv('AAPL-11-15-1m.csv')\n",
    "data.drop(columns=['Volume', 'Open', 'High', 'Low'], inplace=True)\n",
    "data['Date'] = pd.to_datetime(data['Date'])\n",
    "data['Close/Last'] = data['Close/Last'].str.replace(',', '').str.replace('$', '').astype(float)\n",
    "corr = data.corr()\n",
    "corr"
   ]
  }
 ],
 "metadata": {
  "kernelspec": {
   "display_name": "Python 3",
   "language": "python",
   "name": "python3"
  },
  "language_info": {
   "codemirror_mode": {
    "name": "ipython",
    "version": 3
   },
   "file_extension": ".py",
   "mimetype": "text/x-python",
   "name": "python",
   "nbconvert_exporter": "python",
   "pygments_lexer": "ipython3",
   "version": "3.8.8"
  }
 },
 "nbformat": 4,
 "nbformat_minor": 5
}
