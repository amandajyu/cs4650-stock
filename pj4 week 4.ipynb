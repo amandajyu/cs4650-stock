{
 "cells": [
  {
   "cell_type": "markdown",
   "id": "f55950c1",
   "metadata": {},
   "source": [
    "# Week 4\n",
    "This week I will be improving my work from last week. Last week I used Monte Carlo Simulation with geometric Brownian motion (GBM) to predict future stock prices, but the resulting graph was hard to read. I would have liked to run more trials for the simulation but it would have been difficult to tell the different lines apart. This week I made the results easier to read, ran the simulation with 1000 trials instead, and adjusted the method so I can input the price that I purchased my stocks at."
   ]
  },
  {
   "cell_type": "markdown",
   "id": "f2024bfe",
   "metadata": {},
   "source": [
    "First, I'll retrieve the stock data and get the percentage of daily returns"
   ]
  },
  {
   "cell_type": "code",
   "execution_count": 1,
   "id": "1519f3df",
   "metadata": {},
   "outputs": [
    {
     "name": "stdout",
     "output_type": "stream",
     "text": [
      "Requirement already satisfied: pandas_datareader in c:\\users\\lucia\\anaconda3\\lib\\site-packages (0.10.0)\n",
      "Requirement already satisfied: pandas>=0.23 in c:\\users\\lucia\\anaconda3\\lib\\site-packages (from pandas_datareader) (1.2.4)\n",
      "Requirement already satisfied: requests>=2.19.0 in c:\\users\\lucia\\anaconda3\\lib\\site-packages (from pandas_datareader) (2.25.1)\n",
      "Requirement already satisfied: lxml in c:\\users\\lucia\\anaconda3\\lib\\site-packages (from pandas_datareader) (4.6.3)\n",
      "Requirement already satisfied: pytz>=2017.3 in c:\\users\\lucia\\anaconda3\\lib\\site-packages (from pandas>=0.23->pandas_datareader) (2021.1)\n",
      "Requirement already satisfied: python-dateutil>=2.7.3 in c:\\users\\lucia\\anaconda3\\lib\\site-packages (from pandas>=0.23->pandas_datareader) (2.8.1)\n",
      "Requirement already satisfied: numpy>=1.16.5 in c:\\users\\lucia\\anaconda3\\lib\\site-packages (from pandas>=0.23->pandas_datareader) (1.20.1)\n",
      "Requirement already satisfied: six>=1.5 in c:\\users\\lucia\\anaconda3\\lib\\site-packages (from python-dateutil>=2.7.3->pandas>=0.23->pandas_datareader) (1.15.0)\n",
      "Requirement already satisfied: certifi>=2017.4.17 in c:\\users\\lucia\\anaconda3\\lib\\site-packages (from requests>=2.19.0->pandas_datareader) (2020.12.5)\n",
      "Requirement already satisfied: chardet<5,>=3.0.2 in c:\\users\\lucia\\anaconda3\\lib\\site-packages (from requests>=2.19.0->pandas_datareader) (4.0.0)\n",
      "Requirement already satisfied: urllib3<1.27,>=1.21.1 in c:\\users\\lucia\\anaconda3\\lib\\site-packages (from requests>=2.19.0->pandas_datareader) (1.26.4)\n",
      "Requirement already satisfied: idna<3,>=2.5 in c:\\users\\lucia\\anaconda3\\lib\\site-packages (from requests>=2.19.0->pandas_datareader) (2.10)\n"
     ]
    },
    {
     "data": {
      "text/html": [
       "<div>\n",
       "<style scoped>\n",
       "    .dataframe tbody tr th:only-of-type {\n",
       "        vertical-align: middle;\n",
       "    }\n",
       "\n",
       "    .dataframe tbody tr th {\n",
       "        vertical-align: top;\n",
       "    }\n",
       "\n",
       "    .dataframe thead th {\n",
       "        text-align: right;\n",
       "    }\n",
       "</style>\n",
       "<table border=\"1\" class=\"dataframe\">\n",
       "  <thead>\n",
       "    <tr style=\"text-align: right;\">\n",
       "      <th></th>\n",
       "      <th>AAPL</th>\n",
       "      <th>AMZN</th>\n",
       "      <th>FB</th>\n",
       "      <th>GOOGL</th>\n",
       "      <th>MSFT</th>\n",
       "      <th>ORCL</th>\n",
       "      <th>PYPL</th>\n",
       "      <th>TSLA</th>\n",
       "    </tr>\n",
       "    <tr>\n",
       "      <th>Date</th>\n",
       "      <th></th>\n",
       "      <th></th>\n",
       "      <th></th>\n",
       "      <th></th>\n",
       "      <th></th>\n",
       "      <th></th>\n",
       "      <th></th>\n",
       "      <th></th>\n",
       "    </tr>\n",
       "  </thead>\n",
       "  <tbody>\n",
       "    <tr>\n",
       "      <th>2020-12-02</th>\n",
       "      <td>0.002934</td>\n",
       "      <td>-0.005140</td>\n",
       "      <td>0.003385</td>\n",
       "      <td>0.016493</td>\n",
       "      <td>-0.003885</td>\n",
       "      <td>0.005788</td>\n",
       "      <td>-0.018380</td>\n",
       "      <td>-0.027259</td>\n",
       "    </tr>\n",
       "    <tr>\n",
       "      <th>2020-12-03</th>\n",
       "      <td>-0.001137</td>\n",
       "      <td>-0.005244</td>\n",
       "      <td>-0.019720</td>\n",
       "      <td>-0.001715</td>\n",
       "      <td>-0.005247</td>\n",
       "      <td>0.003216</td>\n",
       "      <td>0.009315</td>\n",
       "      <td>0.043177</td>\n",
       "    </tr>\n",
       "    <tr>\n",
       "      <th>2020-12-04</th>\n",
       "      <td>-0.005612</td>\n",
       "      <td>-0.007578</td>\n",
       "      <td>-0.007628</td>\n",
       "      <td>0.001054</td>\n",
       "      <td>0.000560</td>\n",
       "      <td>0.011642</td>\n",
       "      <td>0.015056</td>\n",
       "      <td>0.009539</td>\n",
       "    </tr>\n",
       "    <tr>\n",
       "      <th>2020-12-07</th>\n",
       "      <td>0.012270</td>\n",
       "      <td>-0.001448</td>\n",
       "      <td>0.021022</td>\n",
       "      <td>-0.003690</td>\n",
       "      <td>-0.000327</td>\n",
       "      <td>-0.002668</td>\n",
       "      <td>0.000735</td>\n",
       "      <td>0.071314</td>\n",
       "    </tr>\n",
       "    <tr>\n",
       "      <th>2020-12-08</th>\n",
       "      <td>0.005091</td>\n",
       "      <td>0.006108</td>\n",
       "      <td>-0.007634</td>\n",
       "      <td>-0.003137</td>\n",
       "      <td>0.008027</td>\n",
       "      <td>-0.012876</td>\n",
       "      <td>-0.004543</td>\n",
       "      <td>0.012653</td>\n",
       "    </tr>\n",
       "  </tbody>\n",
       "</table>\n",
       "</div>"
      ],
      "text/plain": [
       "                AAPL      AMZN        FB     GOOGL      MSFT      ORCL  \\\n",
       "Date                                                                     \n",
       "2020-12-02  0.002934 -0.005140  0.003385  0.016493 -0.003885  0.005788   \n",
       "2020-12-03 -0.001137 -0.005244 -0.019720 -0.001715 -0.005247  0.003216   \n",
       "2020-12-04 -0.005612 -0.007578 -0.007628  0.001054  0.000560  0.011642   \n",
       "2020-12-07  0.012270 -0.001448  0.021022 -0.003690 -0.000327 -0.002668   \n",
       "2020-12-08  0.005091  0.006108 -0.007634 -0.003137  0.008027 -0.012876   \n",
       "\n",
       "                PYPL      TSLA  \n",
       "Date                            \n",
       "2020-12-02 -0.018380 -0.027259  \n",
       "2020-12-03  0.009315  0.043177  \n",
       "2020-12-04  0.015056  0.009539  \n",
       "2020-12-07  0.000735  0.071314  \n",
       "2020-12-08 -0.004543  0.012653  "
      ]
     },
     "execution_count": 1,
     "metadata": {},
     "output_type": "execute_result"
    }
   ],
   "source": [
    "!pip install pandas_datareader\n",
    "import pandas as pd\n",
    "from pandas_datareader import data as wb\n",
    "import numpy as np\n",
    "import matplotlib.pyplot as mplt\n",
    "import seaborn as sns\n",
    "from scipy.stats import norm\n",
    "\n",
    "symbols = ['AAPL','AMZN','FB','GOOGL','MSFT','ORCL','PYPL','TSLA']\n",
    "data = pd.DataFrame()\n",
    "for sym in symbols:\n",
    "    data[sym] = wb.DataReader(sym, data_source = 'yahoo', start = '2020-12-1')['Adj Close']\n",
    "data.head()\n",
    "\n",
    "returns = data.pct_change()\n",
    "returns.dropna(inplace=True)\n",
    "returns.head()"
   ]
  },
  {
   "cell_type": "markdown",
   "id": "0aaa8797",
   "metadata": {},
   "source": [
    "Next, I started off by adjusting my method from last week for plotting the simulation results. Here I tried plotting the predicted prices for the different trials using a histogram"
   ]
  },
  {
   "cell_type": "code",
   "execution_count": 2,
   "id": "9071b667",
   "metadata": {},
   "outputs": [
    {
     "name": "stdout",
     "output_type": "stream",
     "text": [
      "starting price: 171.17999267578125\n"
     ]
    },
    {
     "data": {
      "image/png": "[encoded data removed]",
      "text/plain": [
       "<Figure size 432x288 with 1 Axes>"
      ]
     },
     "metadata": {
      "needs_background": "light"
     },
     "output_type": "display_data"
    }
   ],
   "source": [
    "def mcs(symbol):\n",
    "    days = 7\n",
    "    trials = 1000\n",
    "\n",
    "    mean = returns.mean()[symbol]\n",
    "    var = returns.var()[symbol]\n",
    "    std = returns.std()[symbol]\n",
    "    drift = mean - (0.5*var)\n",
    "\n",
    "    # generate random variables for every predicted day and for every trial\n",
    "    Z = norm.ppf(np.random.rand(days, trials))\n",
    "    daily_returns = np.exp(drift + std * Z)\n",
    "\n",
    "    # price_paths is a list of lists. each list in price_paths corresponds to a day in the simulation\n",
    "    # and the element at an index i corresponds to the predicted price for trial i\n",
    "    price_paths = np.zeros_like(daily_returns)\n",
    "    # the starting price is the last price in the data table (the most recent adj closing price)\n",
    "    price_paths[0] = data[symbol].iloc[-1]\n",
    "    for t in range(1, days):\n",
    "        # the predicted price for day t is the previous day's price * the percent of daily return for day t\n",
    "        price_paths[t] = price_paths[t-1]*daily_returns[t]\n",
    "        \n",
    "    #############################################################################\n",
    "    # I want a histogram of the last day of predictions \n",
    "    # so it is easier to see the most common simulated price\n",
    "    print('starting price: ' + str(price_paths[0][0]))\n",
    "    mplt.hist(price_paths[days-1])\n",
    "\n",
    "# testing it out with Apple stocks\n",
    "mcs('AAPL')"
   ]
  },
  {
   "cell_type": "markdown",
   "id": "7fa8a5ee",
   "metadata": {},
   "source": [
    "I felt like it was hard to tell from the histogram whether the trials made money or not, so I plotted the profits instead of the final prices, and made it display the percentage of trials that lost or gained money"
   ]
  },
  {
   "cell_type": "code",
   "execution_count": 3,
   "id": "43541f41",
   "metadata": {},
   "outputs": [
    {
     "name": "stdout",
     "output_type": "stream",
     "text": [
      "lost money 45.9% of the time\n",
      "gained money 54.1% of the time\n"
     ]
    },
    {
     "data": {
      "image/png": "[encoded data removed]",
      "text/plain": [
       "<Figure size 432x288 with 1 Axes>"
      ]
     },
     "metadata": {
      "needs_background": "light"
     },
     "output_type": "display_data"
    }
   ],
   "source": [
    "def mcs(symbol):\n",
    "    days = 7\n",
    "    trials = 1000\n",
    "\n",
    "    mean = returns.mean()[symbol]\n",
    "    var = returns.var()[symbol]\n",
    "    std = returns.std()[symbol]\n",
    "    drift = mean - (0.5*var)\n",
    "\n",
    "    # generate random variables for every predicted day and for every trial\n",
    "    Z = norm.ppf(np.random.rand(days, trials))\n",
    "    daily_returns = np.exp(drift + std * Z)\n",
    "\n",
    "    # price_paths is a list of lists. each list in price_paths corresponds to a day in the simulation\n",
    "    # and the element at an index i corresponds to the predicted price for trial i\n",
    "    price_paths = np.zeros_like(daily_returns)\n",
    "    # the starting price is the last price in the data table (the most recent adj closing price)\n",
    "    price_paths[0] = data[symbol].iloc[-1]\n",
    "    for t in range(1, days):\n",
    "        # the predicted price for day t is the previous day's price * the percent of daily return for day t\n",
    "        price_paths[t] = price_paths[t-1]*daily_returns[t]\n",
    "\n",
    "    #############################################################################\n",
    "    # different code here\n",
    "    result = price_paths[days-1] - price_paths[0]\n",
    "    mplt.hist(result)\n",
    "    lost=0\n",
    "    gained=0\n",
    "    for profit in result:\n",
    "        if profit<=0:\n",
    "            lost+=1\n",
    "        else:\n",
    "            gained+=1\n",
    "    print('lost money ' + str((lost/trials)*100) + '% of the time')\n",
    "    print('gained money ' + str((gained/trials)*100) + '% of the time')\n",
    "\n",
    "# testing it out with Apple stocks\n",
    "mcs('AAPL')"
   ]
  },
  {
   "cell_type": "markdown",
   "id": "e9da35c2",
   "metadata": {},
   "source": [
    "Finally, since this is the last week of the stock simulation and I have no need to predict stocks for the next week (which is what the method does) I will change it so it will display the predicted profit of each day for the next 3 days (so until dec 10) to help see which day would be good to sell the stocks I have. I will also change it so I can input the starting price that I bought the stock at"
   ]
  },
  {
   "cell_type": "code",
   "execution_count": 4,
   "id": "a630718e",
   "metadata": {},
   "outputs": [],
   "source": [
    "def mcs(symbol, starting):\n",
    "    ######################\n",
    "    # days is 4 not 3 because it includes day 0\n",
    "    days = 4\n",
    "    trials = 1000\n",
    "\n",
    "    mean = returns.mean()[symbol]\n",
    "    var = returns.var()[symbol]\n",
    "    std = returns.std()[symbol]\n",
    "    drift = mean - (0.5*var)\n",
    "\n",
    "    # generate random variables for every predicted day and for every trial\n",
    "    Z = norm.ppf(np.random.rand(days, trials))\n",
    "    daily_returns = np.exp(drift + std * Z)\n",
    "\n",
    "    # price_paths is a list of lists. each list in price_paths corresponds to a day in the simulation\n",
    "    # and the element at an index i corresponds to the predicted price for trial i\n",
    "    price_paths = np.zeros_like(daily_returns)\n",
    "    \n",
    "    \n",
    "    #############################################################################\n",
    "    # this time the starting price is the starting priced passed into the argument\n",
    "    price_paths[0] = [starting for i in range(trials)]\n",
    "#     print(price_paths[0])\n",
    "    \n",
    "    for t in range(1, days):\n",
    "        # the predicted price for day t is the previous day's price * the percent of daily return for day t\n",
    "        price_paths[t] = price_paths[t-1]*daily_returns[t]\n",
    "\n",
    "    #############################################################################\n",
    "    # different code here\n",
    "    for t in range(1, days):\n",
    "#         print(price_paths[t])\n",
    "        result = price_paths[t] - price_paths[0]\n",
    "#         print(result)\n",
    "        mplt.hist(result)\n",
    "        lost=0\n",
    "        gained=0\n",
    "        for profit in result:\n",
    "            if profit<=0:\n",
    "                lost+=1\n",
    "            else:\n",
    "                gained+=1\n",
    "        print('Simulation for: ' + symbol)\n",
    "        print('prediction for after ' + str(t) + ' days')\n",
    "        print('lost money ' + str((lost/trials)*100) + '% of the time')\n",
    "        print('gained money ' + str((gained/trials)*100) + '% of the time')\n",
    "        mplt.show()"
   ]
  },
  {
   "cell_type": "markdown",
   "id": "fd985a79",
   "metadata": {},
   "source": [
    "The stocks that I currently still have are AMZN, FB, MSFT, ORCL, PYPL. Here is the simulation results for each one"
   ]
  },
  {
   "cell_type": "code",
   "execution_count": 5,
   "id": "d0ec8043",
   "metadata": {},
   "outputs": [
    {
     "name": "stdout",
     "output_type": "stream",
     "text": [
      "Simulation for: AMZN\n",
      "prediction for after 1 days\n",
      "lost money 52.300000000000004% of the time\n",
      "gained money 47.699999999999996% of the time\n"
     ]
    },
    {
     "data": {
      "image/png": "[encoded data removed]",
      "text/plain": [
       "<Figure size 432x288 with 1 Axes>"
      ]
     },
     "metadata": {
      "needs_background": "light"
     },
     "output_type": "display_data"
    },
    {
     "name": "stdout",
     "output_type": "stream",
     "text": [
      "Simulation for: AMZN\n",
      "prediction for after 2 days\n",
      "lost money 48.9% of the time\n",
      "gained money 51.1% of the time\n"
     ]
    },
    {
     "data": {
      "image/png": "[encoded data removed]",
      "text/plain": [
       "<Figure size 432x288 with 1 Axes>"
      ]
     },
     "metadata": {
      "needs_background": "light"
     },
     "output_type": "display_data"
    },
    {
     "name": "stdout",
     "output_type": "stream",
     "text": [
      "Simulation for: AMZN\n",
      "prediction for after 3 days\n",
      "lost money 48.0% of the time\n",
      "gained money 52.0% of the time\n"
     ]
    },
    {
     "data": {
      "image/png": "[encoded data removed]",
      "text/plain": [
       "<Figure size 432x288 with 1 Axes>"
      ]
     },
     "metadata": {
      "needs_background": "light"
     },
     "output_type": "display_data"
    }
   ],
   "source": [
    "mcs('AMZN', 3380.86)"
   ]
  },
  {
   "cell_type": "code",
   "execution_count": 6,
   "id": "2178bd30",
   "metadata": {},
   "outputs": [
    {
     "name": "stdout",
     "output_type": "stream",
     "text": [
      "Simulation for: FB\n",
      "prediction for after 1 days\n",
      "lost money 50.8% of the time\n",
      "gained money 49.2% of the time\n"
     ]
    },
    {
     "data": {
      "image/png": "[encoded data removed]",
      "text/plain": [
       "<Figure size 432x288 with 1 Axes>"
      ]
     },
     "metadata": {
      "needs_background": "light"
     },
     "output_type": "display_data"
    },
    {
     "name": "stdout",
     "output_type": "stream",
     "text": [
      "Simulation for: FB\n",
      "prediction for after 2 days\n",
      "lost money 51.1% of the time\n",
      "gained money 48.9% of the time\n"
     ]
    },
    {
     "data": {
      "image/png": "[encoded data removed]",
      "text/plain": [
       "<Figure size 432x288 with 1 Axes>"
      ]
     },
     "metadata": {
      "needs_background": "light"
     },
     "output_type": "display_data"
    },
    {
     "name": "stdout",
     "output_type": "stream",
     "text": [
      "Simulation for: FB\n",
      "prediction for after 3 days\n",
      "lost money 49.6% of the time\n",
      "gained money 50.4% of the time\n"
     ]
    },
    {
     "data": {
      "image/png": "[encoded data removed]",
      "text/plain": [
       "<Figure size 432x288 with 1 Axes>"
      ]
     },
     "metadata": {
      "needs_background": "light"
     },
     "output_type": "display_data"
    }
   ],
   "source": [
    "mcs('FB', 333.74)"
   ]
  },
  {
   "cell_type": "code",
   "execution_count": 7,
   "id": "65bf4f01",
   "metadata": {},
   "outputs": [
    {
     "name": "stdout",
     "output_type": "stream",
     "text": [
      "Simulation for: MSFT\n",
      "prediction for after 1 days\n",
      "lost money 45.2% of the time\n",
      "gained money 54.800000000000004% of the time\n"
     ]
    },
    {
     "data": {
      "image/png": "[encoded data removed]",
      "text/plain": [
       "<Figure size 432x288 with 1 Axes>"
      ]
     },
     "metadata": {
      "needs_background": "light"
     },
     "output_type": "display_data"
    },
    {
     "name": "stdout",
     "output_type": "stream",
     "text": [
      "Simulation for: MSFT\n",
      "prediction for after 2 days\n",
      "lost money 41.199999999999996% of the time\n",
      "gained money 58.8% of the time\n"
     ]
    },
    {
     "data": {
      "image/png": "[encoded data removed]",
      "text/plain": [
       "<Figure size 432x288 with 1 Axes>"
      ]
     },
     "metadata": {
      "needs_background": "light"
     },
     "output_type": "display_data"
    },
    {
     "name": "stdout",
     "output_type": "stream",
     "text": [
      "Simulation for: MSFT\n",
      "prediction for after 3 days\n",
      "lost money 39.0% of the time\n",
      "gained money 61.0% of the time\n"
     ]
    },
    {
     "data": {
      "image/png": "[encoded data removed]",
      "text/plain": [
       "<Figure size 432x288 with 1 Axes>"
      ]
     },
     "metadata": {
      "needs_background": "light"
     },
     "output_type": "display_data"
    }
   ],
   "source": [
    "mcs('MSFT', 321.01)"
   ]
  },
  {
   "cell_type": "code",
   "execution_count": 8,
   "id": "56a5bc64",
   "metadata": {},
   "outputs": [
    {
     "name": "stdout",
     "output_type": "stream",
     "text": [
      "Simulation for: ORCL\n",
      "prediction for after 1 days\n",
      "lost money 46.800000000000004% of the time\n",
      "gained money 53.2% of the time\n"
     ]
    },
    {
     "data": {
      "image/png": "[encoded data removed]",
      "text/plain": [
       "<Figure size 432x288 with 1 Axes>"
      ]
     },
     "metadata": {
      "needs_background": "light"
     },
     "output_type": "display_data"
    },
    {
     "name": "stdout",
     "output_type": "stream",
     "text": [
      "Simulation for: ORCL\n",
      "prediction for after 2 days\n",
      "lost money 45.2% of the time\n",
      "gained money 54.800000000000004% of the time\n"
     ]
    },
    {
     "data": {
      "image/png": "[encoded data removed]",
      "text/plain": [
       "<Figure size 432x288 with 1 Axes>"
      ]
     },
     "metadata": {
      "needs_background": "light"
     },
     "output_type": "display_data"
    },
    {
     "name": "stdout",
     "output_type": "stream",
     "text": [
      "Simulation for: ORCL\n",
      "prediction for after 3 days\n",
      "lost money 43.1% of the time\n",
      "gained money 56.89999999999999% of the time\n"
     ]
    },
    {
     "data": {
      "image/png": "[encoded data removed]",
      "text/plain": [
       "<Figure size 432x288 with 1 Axes>"
      ]
     },
     "metadata": {
      "needs_background": "light"
     },
     "output_type": "display_data"
    }
   ],
   "source": [
    "mcs('ORCL', 92.73)"
   ]
  },
  {
   "cell_type": "code",
   "execution_count": 9,
   "id": "e9bfffeb",
   "metadata": {},
   "outputs": [
    {
     "name": "stdout",
     "output_type": "stream",
     "text": [
      "Simulation for: PYPL\n",
      "prediction for after 1 days\n",
      "lost money 50.3% of the time\n",
      "gained money 49.7% of the time\n"
     ]
    },
    {
     "data": {
      "image/png": "[encoded data removed]",
      "text/plain": [
       "<Figure size 432x288 with 1 Axes>"
      ]
     },
     "metadata": {
      "needs_background": "light"
     },
     "output_type": "display_data"
    },
    {
     "name": "stdout",
     "output_type": "stream",
     "text": [
      "Simulation for: PYPL\n",
      "prediction for after 2 days\n",
      "lost money 51.9% of the time\n",
      "gained money 48.1% of the time\n"
     ]
    },
    {
     "data": {
      "image/png": "[encoded data removed]",
      "text/plain": [
       "<Figure size 432x288 with 1 Axes>"
      ]
     },
     "metadata": {
      "needs_background": "light"
     },
     "output_type": "display_data"
    },
    {
     "name": "stdout",
     "output_type": "stream",
     "text": [
      "Simulation for: PYPL\n",
      "prediction for after 3 days\n",
      "lost money 52.5% of the time\n",
      "gained money 47.5% of the time\n"
     ]
    },
    {
     "data": {
      "image/png": "[encoded data removed]",
      "text/plain": [
       "<Figure size 432x288 with 1 Axes>"
      ]
     },
     "metadata": {
      "needs_background": "light"
     },
     "output_type": "display_data"
    }
   ],
   "source": [
    "mcs('PYPL', 181.65)"
   ]
  },
  {
   "cell_type": "markdown",
   "id": "2c818b68",
   "metadata": {},
   "source": [
    "Based on these results, I should sell AMZN three days from now, FB three days from now, MSFT three days from now, ORCL three days from now, and PYPL two days from now"
   ]
  }
 ],
 "metadata": {
  "kernelspec": {
   "display_name": "Python 3",
   "language": "python",
   "name": "python3"
  },
  "language_info": {
   "codemirror_mode": {
    "name": "ipython",
    "version": 3
   },
   "file_extension": ".py",
   "mimetype": "text/x-python",
   "name": "python",
   "nbconvert_exporter": "python",
   "pygments_lexer": "ipython3",
   "version": "3.8.8"
  }
 },
 "nbformat": 4,
 "nbformat_minor": 5
}
